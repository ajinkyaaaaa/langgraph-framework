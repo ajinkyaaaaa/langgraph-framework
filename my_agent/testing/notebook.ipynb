{
 "cells": [
  {
   "cell_type": "code",
   "execution_count": 4,
   "metadata": {},
   "outputs": [],
   "source": [
    "from typing import Dict, Any, List\n",
    "import pandas as pd\n",
    "\n",
    "def process_excel_calculations(file_path: str) -> Dict[str, Any]:\n",
    "    try:\n",
    "        filter_value = \"23040100\"\n",
    "        filter_column = \"Account\"\n",
    "        calculation_column = \"Amount in local currency\"\n",
    "        df = pd.read_excel(file_path, dtype=str)\n",
    "        if filter_column not in df.columns or calculation_column not in df.columns:\n",
    "            return {\"error\": f\"Missing required columns: '{filter_column}' or '{calculation_column}'\"}\n",
    "        filtered_df = df[df[filter_column] == str(filter_value)].copy()\n",
    "        if filtered_df.empty:\n",
    "            return {\"error\": f\"No matching rows found for {filter_column} = {filter_value}\"}\n",
    "        total = 0\n",
    "        for value in filtered_df[calculation_column].dropna(): \n",
    "            value = str(value).replace(\",\", \"\") \n",
    "\n",
    "            if value.startswith(\"-\"):\n",
    "                total -= float(value[1:]) \n",
    "            else:\n",
    "                total += float(value)  \n",
    "        total_ = int(abs(total))\n",
    "        return {\"excel_total\": total_}\n",
    "    except Exception as e:\n",
    "        return {\"error\": str(e)}"
   ]
  },
  {
   "cell_type": "code",
   "execution_count": 5,
   "metadata": {},
   "outputs": [],
   "source": [
    "a = process_excel_calculations(file_path=r\"C:\\Users\\UV172XK\\code@ey\\Agentic AI\\my_app\\langgraph-framework\\my_agent\\Landing\\37345_IPE3.xlsx\")"
   ]
  },
  {
   "cell_type": "code",
   "execution_count": 6,
   "metadata": {},
   "outputs": [
    {
     "data": {
      "text/plain": [
       "{'excel_total': 11314899}"
      ]
     },
     "execution_count": 6,
     "metadata": {},
     "output_type": "execute_result"
    }
   ],
   "source": [
    "a"
   ]
  },
  {
   "cell_type": "code",
   "execution_count": null,
   "metadata": {},
   "outputs": [],
   "source": []
  }
 ],
 "metadata": {
  "kernelspec": {
   "display_name": "venv",
   "language": "python",
   "name": "python3"
  },
  "language_info": {
   "codemirror_mode": {
    "name": "ipython",
    "version": 3
   },
   "file_extension": ".py",
   "mimetype": "text/x-python",
   "name": "python",
   "nbconvert_exporter": "python",
   "pygments_lexer": "ipython3",
   "version": "3.12.8"
  }
 },
 "nbformat": 4,
 "nbformat_minor": 2
}
